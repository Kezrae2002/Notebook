{
 "cells": [
  {
   "cell_type": "code",
   "execution_count": 1,
   "id": "4ae1b7b4-b213-45e9-8014-145b1fde8e98",
   "metadata": {},
   "outputs": [
    {
     "name": "stdout",
     "output_type": "stream",
     "text": [
      "Too low!\n"
     ]
    }
   ],
   "source": [
    "#Chapter 4, 4.1\n",
    "\n",
    "secret = 7\n",
    "guess = 5\n",
    "\n",
    "if guess < 7:\n",
    "    print(\"Too low!\")\n",
    "elif guess > 7:\n",
    "    print(\"Too high!\")\n",
    "else:\n",
    "    print(\"Got it!\")\n",
    "    "
   ]
  },
  {
   "cell_type": "code",
   "execution_count": 3,
   "id": "d47ad5f8-b89e-4eeb-b5ea-be6c0001ebf4",
   "metadata": {},
   "outputs": [
    {
     "name": "stdout",
     "output_type": "stream",
     "text": [
      "It's a pea!\n"
     ]
    }
   ],
   "source": [
    "#Chapter 4, 4.2\n",
    "\n",
    "small = True\n",
    "green = True\n",
    "\n",
    "if small and green:\n",
    "    print(\"It's a pea!\")\n",
    "elif small and not green:\n",
    "    print(\"It's a cherry\")\n",
    "elif not small and green:\n",
    "    print(\"It's a watermelon!\")\n",
    "else:\n",
    "    print(\"It's a pumkin\")\n",
    "    "
   ]
  },
  {
   "cell_type": "code",
   "execution_count": 4,
   "id": "6003beea-70bc-4c44-afaf-dd10db05d2ee",
   "metadata": {},
   "outputs": [
    {
     "name": "stdout",
     "output_type": "stream",
     "text": [
      "3\n",
      "2\n",
      "1\n",
      "0\n"
     ]
    }
   ],
   "source": [
    "#Chapter 6, 6.1\n",
    "\n",
    "for num in [3,2,1,0]:\n",
    "    print(num)"
   ]
  },
  {
   "cell_type": "code",
   "execution_count": 1,
   "id": "ef6c7225-37c3-4d49-b429-e4baae36f87a",
   "metadata": {},
   "outputs": [
    {
     "name": "stdout",
     "output_type": "stream",
     "text": [
      "too low\n",
      "too low\n",
      "too low\n",
      "too low\n",
      "too low\n",
      "too low\n",
      "found it!\n"
     ]
    }
   ],
   "source": [
    "#Chapter 6, 6.2\n",
    "\n",
    "guess_me = 7\n",
    "number = 1\n",
    "\n",
    "while number <= guess_me:\n",
    "    if number < guess_me:\n",
    "        print(\"too low\")\n",
    "    elif number == guess_me:\n",
    "        print(\"found it!\")\n",
    "        break\n",
    "    number += 1\n",
    "else:\n",
    "    print(\"oops\")\n"
   ]
  },
  {
   "cell_type": "code",
   "execution_count": null,
   "id": "e4ab4513-22b2-4051-af36-dc36b5304ed8",
   "metadata": {},
   "outputs": [],
   "source": [
    "#Chapter 6, "
   ]
  }
 ],
 "metadata": {
  "kernelspec": {
   "display_name": "Python 3 (ipykernel)",
   "language": "python",
   "name": "python3"
  },
  "language_info": {
   "codemirror_mode": {
    "name": "ipython",
    "version": 3
   },
   "file_extension": ".py",
   "mimetype": "text/x-python",
   "name": "python",
   "nbconvert_exporter": "python",
   "pygments_lexer": "ipython3",
   "version": "3.12.7"
  }
 },
 "nbformat": 4,
 "nbformat_minor": 5
}
